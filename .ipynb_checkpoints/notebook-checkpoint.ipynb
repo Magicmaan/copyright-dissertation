{
 "cells": [
  {
   "cell_type": "code",
   "execution_count": 3,
   "id": "18df9f2e-0052-414d-a622-136d62f80e50",
   "metadata": {},
   "outputs": [
    {
     "name": "stdout",
     "output_type": "stream",
     "text": [
      "hello world\n",
      "boo\n"
     ]
    }
   ],
   "source": [
    "print(\"hello world\");\n",
    "print(\"boo\");"
   ]
  },
  {
   "cell_type": "markdown",
   "id": "3419bcde-c589-41b1-b423-5051799dc570",
   "metadata": {
    "jupyter": {
     "source_hidden": true
    }
   },
   "source": []
  }
 ],
 "metadata": {
  "kernelspec": {
   "display_name": "Python 3 (ipykernel)",
   "language": "python",
   "name": "python3"
  },
  "language_info": {
   "codemirror_mode": {
    "name": "ipython",
    "version": 3
   },
   "file_extension": ".py",
   "mimetype": "text/x-python",
   "name": "python",
   "nbconvert_exporter": "python",
   "pygments_lexer": "ipython3",
   "version": "3.11.6"
  }
 },
 "nbformat": 4,
 "nbformat_minor": 5
}
